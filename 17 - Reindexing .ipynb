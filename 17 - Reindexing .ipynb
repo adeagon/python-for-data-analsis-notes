{
 "cells": [
  {
   "cell_type": "code",
   "execution_count": 3,
   "metadata": {
    "collapsed": true
   },
   "outputs": [],
   "source": [
    "import numpy as np\n",
    "import pandas as pd\n",
    "from pandas import Series, DataFrame\n",
    "\n",
    "from numpy.random import randn"
   ]
  },
  {
   "cell_type": "code",
   "execution_count": 4,
   "metadata": {
    "collapsed": false
   },
   "outputs": [
    {
     "data": {
      "text/plain": [
       "A    1\n",
       "B    2\n",
       "C    3\n",
       "D    4\n",
       "dtype: int64"
      ]
     },
     "execution_count": 4,
     "metadata": {},
     "output_type": "execute_result"
    }
   ],
   "source": [
    "ser1 = Series([1,2,3,4],index=['A','B','C','D'])\n",
    "ser1"
   ]
  },
  {
   "cell_type": "code",
   "execution_count": 5,
   "metadata": {
    "collapsed": false
   },
   "outputs": [
    {
     "data": {
      "text/plain": [
       "A     1\n",
       "B     2\n",
       "C     3\n",
       "D     4\n",
       "E   NaN\n",
       "F   NaN\n",
       "dtype: float64"
      ]
     },
     "execution_count": 5,
     "metadata": {},
     "output_type": "execute_result"
    }
   ],
   "source": [
    "ser2 = ser1.reindex(['A','B','C','D','E','F'])\n",
    "ser2"
   ]
  },
  {
   "cell_type": "code",
   "execution_count": 6,
   "metadata": {
    "collapsed": false
   },
   "outputs": [
    {
     "data": {
      "text/plain": [
       "A     1\n",
       "B     2\n",
       "C     3\n",
       "D     4\n",
       "E   NaN\n",
       "F   NaN\n",
       "G     0\n",
       "dtype: float64"
      ]
     },
     "execution_count": 6,
     "metadata": {},
     "output_type": "execute_result"
    }
   ],
   "source": [
    "ser2.reindex(['A','B','C','D','E','F','G'],fill_value=0)"
   ]
  },
  {
   "cell_type": "code",
   "execution_count": 7,
   "metadata": {
    "collapsed": false
   },
   "outputs": [
    {
     "data": {
      "text/plain": [
       "0        USA\n",
       "5     Mexico\n",
       "10    Canada\n",
       "dtype: object"
      ]
     },
     "execution_count": 7,
     "metadata": {},
     "output_type": "execute_result"
    }
   ],
   "source": [
    "ser3 = Series(['USA','Mexico','Canada'],index=[0,5,10])\n",
    "ser3"
   ]
  },
  {
   "cell_type": "code",
   "execution_count": 9,
   "metadata": {
    "collapsed": false
   },
   "outputs": [
    {
     "data": {
      "text/plain": [
       "[0, 1, 2, 3, 4, 5, 6, 7, 8, 9, 10, 11, 12, 13, 14]"
      ]
     },
     "execution_count": 9,
     "metadata": {},
     "output_type": "execute_result"
    }
   ],
   "source": [
    "ranger = range(15)\n",
    "ranger"
   ]
  },
  {
   "cell_type": "code",
   "execution_count": 10,
   "metadata": {
    "collapsed": false
   },
   "outputs": [
    {
     "data": {
      "text/plain": [
       "0        USA\n",
       "1        USA\n",
       "2        USA\n",
       "3        USA\n",
       "4        USA\n",
       "5     Mexico\n",
       "6     Mexico\n",
       "7     Mexico\n",
       "8     Mexico\n",
       "9     Mexico\n",
       "10    Canada\n",
       "11    Canada\n",
       "12    Canada\n",
       "13    Canada\n",
       "14    Canada\n",
       "dtype: object"
      ]
     },
     "execution_count": 10,
     "metadata": {},
     "output_type": "execute_result"
    }
   ],
   "source": [
    "ser3.reindex(ranger,method='ffill')"
   ]
  },
  {
   "cell_type": "code",
   "execution_count": 11,
   "metadata": {
    "collapsed": false
   },
   "outputs": [
    {
     "data": {
      "text/html": [
       "<div>\n",
       "<table border=\"1\" class=\"dataframe\">\n",
       "  <thead>\n",
       "    <tr style=\"text-align: right;\">\n",
       "      <th></th>\n",
       "      <th>col1</th>\n",
       "      <th>col2</th>\n",
       "      <th>col3</th>\n",
       "      <th>col4</th>\n",
       "      <th>col5</th>\n",
       "    </tr>\n",
       "  </thead>\n",
       "  <tbody>\n",
       "    <tr>\n",
       "      <th>A</th>\n",
       "      <td>-2.139300</td>\n",
       "      <td>-0.086502</td>\n",
       "      <td>-1.818246</td>\n",
       "      <td>0.545573</td>\n",
       "      <td>2.690218</td>\n",
       "    </tr>\n",
       "    <tr>\n",
       "      <th>B</th>\n",
       "      <td>-1.247574</td>\n",
       "      <td>-1.582042</td>\n",
       "      <td>-1.007932</td>\n",
       "      <td>0.574008</td>\n",
       "      <td>-1.147424</td>\n",
       "    </tr>\n",
       "    <tr>\n",
       "      <th>D</th>\n",
       "      <td>0.472679</td>\n",
       "      <td>1.691711</td>\n",
       "      <td>-1.825475</td>\n",
       "      <td>0.168140</td>\n",
       "      <td>-0.530009</td>\n",
       "    </tr>\n",
       "    <tr>\n",
       "      <th>E</th>\n",
       "      <td>-2.082624</td>\n",
       "      <td>-0.585465</td>\n",
       "      <td>-0.902916</td>\n",
       "      <td>-0.871950</td>\n",
       "      <td>-2.205043</td>\n",
       "    </tr>\n",
       "    <tr>\n",
       "      <th>F</th>\n",
       "      <td>1.333361</td>\n",
       "      <td>0.979235</td>\n",
       "      <td>-1.973725</td>\n",
       "      <td>-1.313685</td>\n",
       "      <td>0.702539</td>\n",
       "    </tr>\n",
       "  </tbody>\n",
       "</table>\n",
       "</div>"
      ],
      "text/plain": [
       "       col1      col2      col3      col4      col5\n",
       "A -2.139300 -0.086502 -1.818246  0.545573  2.690218\n",
       "B -1.247574 -1.582042 -1.007932  0.574008 -1.147424\n",
       "D  0.472679  1.691711 -1.825475  0.168140 -0.530009\n",
       "E -2.082624 -0.585465 -0.902916 -0.871950 -2.205043\n",
       "F  1.333361  0.979235 -1.973725 -1.313685  0.702539"
      ]
     },
     "execution_count": 11,
     "metadata": {},
     "output_type": "execute_result"
    }
   ],
   "source": [
    "dframe = DataFrame(randn(25).reshape((5,5)),index=['A','B','D','E','F'],columns=['col1','col2','col3','col4','col5'])\n",
    "dframe"
   ]
  },
  {
   "cell_type": "code",
   "execution_count": 12,
   "metadata": {
    "collapsed": true
   },
   "outputs": [],
   "source": [
    "dframe2 = dframe.reindex(['A','B','C','D','E','F'])"
   ]
  },
  {
   "cell_type": "code",
   "execution_count": 13,
   "metadata": {
    "collapsed": false
   },
   "outputs": [
    {
     "data": {
      "text/html": [
       "<div>\n",
       "<table border=\"1\" class=\"dataframe\">\n",
       "  <thead>\n",
       "    <tr style=\"text-align: right;\">\n",
       "      <th></th>\n",
       "      <th>col1</th>\n",
       "      <th>col2</th>\n",
       "      <th>col3</th>\n",
       "      <th>col4</th>\n",
       "      <th>col5</th>\n",
       "    </tr>\n",
       "  </thead>\n",
       "  <tbody>\n",
       "    <tr>\n",
       "      <th>A</th>\n",
       "      <td>-2.139300</td>\n",
       "      <td>-0.086502</td>\n",
       "      <td>-1.818246</td>\n",
       "      <td>0.545573</td>\n",
       "      <td>2.690218</td>\n",
       "    </tr>\n",
       "    <tr>\n",
       "      <th>B</th>\n",
       "      <td>-1.247574</td>\n",
       "      <td>-1.582042</td>\n",
       "      <td>-1.007932</td>\n",
       "      <td>0.574008</td>\n",
       "      <td>-1.147424</td>\n",
       "    </tr>\n",
       "    <tr>\n",
       "      <th>C</th>\n",
       "      <td>NaN</td>\n",
       "      <td>NaN</td>\n",
       "      <td>NaN</td>\n",
       "      <td>NaN</td>\n",
       "      <td>NaN</td>\n",
       "    </tr>\n",
       "    <tr>\n",
       "      <th>D</th>\n",
       "      <td>0.472679</td>\n",
       "      <td>1.691711</td>\n",
       "      <td>-1.825475</td>\n",
       "      <td>0.168140</td>\n",
       "      <td>-0.530009</td>\n",
       "    </tr>\n",
       "    <tr>\n",
       "      <th>E</th>\n",
       "      <td>-2.082624</td>\n",
       "      <td>-0.585465</td>\n",
       "      <td>-0.902916</td>\n",
       "      <td>-0.871950</td>\n",
       "      <td>-2.205043</td>\n",
       "    </tr>\n",
       "    <tr>\n",
       "      <th>F</th>\n",
       "      <td>1.333361</td>\n",
       "      <td>0.979235</td>\n",
       "      <td>-1.973725</td>\n",
       "      <td>-1.313685</td>\n",
       "      <td>0.702539</td>\n",
       "    </tr>\n",
       "  </tbody>\n",
       "</table>\n",
       "</div>"
      ],
      "text/plain": [
       "       col1      col2      col3      col4      col5\n",
       "A -2.139300 -0.086502 -1.818246  0.545573  2.690218\n",
       "B -1.247574 -1.582042 -1.007932  0.574008 -1.147424\n",
       "C       NaN       NaN       NaN       NaN       NaN\n",
       "D  0.472679  1.691711 -1.825475  0.168140 -0.530009\n",
       "E -2.082624 -0.585465 -0.902916 -0.871950 -2.205043\n",
       "F  1.333361  0.979235 -1.973725 -1.313685  0.702539"
      ]
     },
     "execution_count": 13,
     "metadata": {},
     "output_type": "execute_result"
    }
   ],
   "source": [
    "dframe2"
   ]
  },
  {
   "cell_type": "code",
   "execution_count": 14,
   "metadata": {
    "collapsed": true
   },
   "outputs": [],
   "source": [
    "new_columns = ['col1','col2','col3','col4','col5','col6']"
   ]
  },
  {
   "cell_type": "code",
   "execution_count": 15,
   "metadata": {
    "collapsed": false
   },
   "outputs": [
    {
     "data": {
      "text/html": [
       "<div>\n",
       "<table border=\"1\" class=\"dataframe\">\n",
       "  <thead>\n",
       "    <tr style=\"text-align: right;\">\n",
       "      <th></th>\n",
       "      <th>col1</th>\n",
       "      <th>col2</th>\n",
       "      <th>col3</th>\n",
       "      <th>col4</th>\n",
       "      <th>col5</th>\n",
       "      <th>col6</th>\n",
       "    </tr>\n",
       "  </thead>\n",
       "  <tbody>\n",
       "    <tr>\n",
       "      <th>A</th>\n",
       "      <td>-2.139300</td>\n",
       "      <td>-0.086502</td>\n",
       "      <td>-1.818246</td>\n",
       "      <td>0.545573</td>\n",
       "      <td>2.690218</td>\n",
       "      <td>NaN</td>\n",
       "    </tr>\n",
       "    <tr>\n",
       "      <th>B</th>\n",
       "      <td>-1.247574</td>\n",
       "      <td>-1.582042</td>\n",
       "      <td>-1.007932</td>\n",
       "      <td>0.574008</td>\n",
       "      <td>-1.147424</td>\n",
       "      <td>NaN</td>\n",
       "    </tr>\n",
       "    <tr>\n",
       "      <th>C</th>\n",
       "      <td>NaN</td>\n",
       "      <td>NaN</td>\n",
       "      <td>NaN</td>\n",
       "      <td>NaN</td>\n",
       "      <td>NaN</td>\n",
       "      <td>NaN</td>\n",
       "    </tr>\n",
       "    <tr>\n",
       "      <th>D</th>\n",
       "      <td>0.472679</td>\n",
       "      <td>1.691711</td>\n",
       "      <td>-1.825475</td>\n",
       "      <td>0.168140</td>\n",
       "      <td>-0.530009</td>\n",
       "      <td>NaN</td>\n",
       "    </tr>\n",
       "    <tr>\n",
       "      <th>E</th>\n",
       "      <td>-2.082624</td>\n",
       "      <td>-0.585465</td>\n",
       "      <td>-0.902916</td>\n",
       "      <td>-0.871950</td>\n",
       "      <td>-2.205043</td>\n",
       "      <td>NaN</td>\n",
       "    </tr>\n",
       "    <tr>\n",
       "      <th>F</th>\n",
       "      <td>1.333361</td>\n",
       "      <td>0.979235</td>\n",
       "      <td>-1.973725</td>\n",
       "      <td>-1.313685</td>\n",
       "      <td>0.702539</td>\n",
       "      <td>NaN</td>\n",
       "    </tr>\n",
       "  </tbody>\n",
       "</table>\n",
       "</div>"
      ],
      "text/plain": [
       "       col1      col2      col3      col4      col5  col6\n",
       "A -2.139300 -0.086502 -1.818246  0.545573  2.690218   NaN\n",
       "B -1.247574 -1.582042 -1.007932  0.574008 -1.147424   NaN\n",
       "C       NaN       NaN       NaN       NaN       NaN   NaN\n",
       "D  0.472679  1.691711 -1.825475  0.168140 -0.530009   NaN\n",
       "E -2.082624 -0.585465 -0.902916 -0.871950 -2.205043   NaN\n",
       "F  1.333361  0.979235 -1.973725 -1.313685  0.702539   NaN"
      ]
     },
     "execution_count": 15,
     "metadata": {},
     "output_type": "execute_result"
    }
   ],
   "source": [
    "dframe2.reindex(columns=new_columns)"
   ]
  },
  {
   "cell_type": "code",
   "execution_count": 16,
   "metadata": {
    "collapsed": false
   },
   "outputs": [
    {
     "data": {
      "text/html": [
       "<div>\n",
       "<table border=\"1\" class=\"dataframe\">\n",
       "  <thead>\n",
       "    <tr style=\"text-align: right;\">\n",
       "      <th></th>\n",
       "      <th>col1</th>\n",
       "      <th>col2</th>\n",
       "      <th>col3</th>\n",
       "      <th>col4</th>\n",
       "      <th>col5</th>\n",
       "    </tr>\n",
       "  </thead>\n",
       "  <tbody>\n",
       "    <tr>\n",
       "      <th>A</th>\n",
       "      <td>-2.139300</td>\n",
       "      <td>-0.086502</td>\n",
       "      <td>-1.818246</td>\n",
       "      <td>0.545573</td>\n",
       "      <td>2.690218</td>\n",
       "    </tr>\n",
       "    <tr>\n",
       "      <th>B</th>\n",
       "      <td>-1.247574</td>\n",
       "      <td>-1.582042</td>\n",
       "      <td>-1.007932</td>\n",
       "      <td>0.574008</td>\n",
       "      <td>-1.147424</td>\n",
       "    </tr>\n",
       "    <tr>\n",
       "      <th>D</th>\n",
       "      <td>0.472679</td>\n",
       "      <td>1.691711</td>\n",
       "      <td>-1.825475</td>\n",
       "      <td>0.168140</td>\n",
       "      <td>-0.530009</td>\n",
       "    </tr>\n",
       "    <tr>\n",
       "      <th>E</th>\n",
       "      <td>-2.082624</td>\n",
       "      <td>-0.585465</td>\n",
       "      <td>-0.902916</td>\n",
       "      <td>-0.871950</td>\n",
       "      <td>-2.205043</td>\n",
       "    </tr>\n",
       "    <tr>\n",
       "      <th>F</th>\n",
       "      <td>1.333361</td>\n",
       "      <td>0.979235</td>\n",
       "      <td>-1.973725</td>\n",
       "      <td>-1.313685</td>\n",
       "      <td>0.702539</td>\n",
       "    </tr>\n",
       "  </tbody>\n",
       "</table>\n",
       "</div>"
      ],
      "text/plain": [
       "       col1      col2      col3      col4      col5\n",
       "A -2.139300 -0.086502 -1.818246  0.545573  2.690218\n",
       "B -1.247574 -1.582042 -1.007932  0.574008 -1.147424\n",
       "D  0.472679  1.691711 -1.825475  0.168140 -0.530009\n",
       "E -2.082624 -0.585465 -0.902916 -0.871950 -2.205043\n",
       "F  1.333361  0.979235 -1.973725 -1.313685  0.702539"
      ]
     },
     "execution_count": 16,
     "metadata": {},
     "output_type": "execute_result"
    }
   ],
   "source": [
    "dframe"
   ]
  },
  {
   "cell_type": "code",
   "execution_count": 18,
   "metadata": {
    "collapsed": false
   },
   "outputs": [
    {
     "data": {
      "text/html": [
       "<div>\n",
       "<table border=\"1\" class=\"dataframe\">\n",
       "  <thead>\n",
       "    <tr style=\"text-align: right;\">\n",
       "      <th></th>\n",
       "      <th>col1</th>\n",
       "      <th>col2</th>\n",
       "      <th>col3</th>\n",
       "      <th>col4</th>\n",
       "      <th>col5</th>\n",
       "      <th>col6</th>\n",
       "    </tr>\n",
       "  </thead>\n",
       "  <tbody>\n",
       "    <tr>\n",
       "      <th>A</th>\n",
       "      <td>-2.139300</td>\n",
       "      <td>-0.086502</td>\n",
       "      <td>-1.818246</td>\n",
       "      <td>0.545573</td>\n",
       "      <td>2.690218</td>\n",
       "      <td>NaN</td>\n",
       "    </tr>\n",
       "    <tr>\n",
       "      <th>B</th>\n",
       "      <td>-1.247574</td>\n",
       "      <td>-1.582042</td>\n",
       "      <td>-1.007932</td>\n",
       "      <td>0.574008</td>\n",
       "      <td>-1.147424</td>\n",
       "      <td>NaN</td>\n",
       "    </tr>\n",
       "    <tr>\n",
       "      <th>C</th>\n",
       "      <td>NaN</td>\n",
       "      <td>NaN</td>\n",
       "      <td>NaN</td>\n",
       "      <td>NaN</td>\n",
       "      <td>NaN</td>\n",
       "      <td>NaN</td>\n",
       "    </tr>\n",
       "    <tr>\n",
       "      <th>D</th>\n",
       "      <td>0.472679</td>\n",
       "      <td>1.691711</td>\n",
       "      <td>-1.825475</td>\n",
       "      <td>0.168140</td>\n",
       "      <td>-0.530009</td>\n",
       "      <td>NaN</td>\n",
       "    </tr>\n",
       "    <tr>\n",
       "      <th>E</th>\n",
       "      <td>-2.082624</td>\n",
       "      <td>-0.585465</td>\n",
       "      <td>-0.902916</td>\n",
       "      <td>-0.871950</td>\n",
       "      <td>-2.205043</td>\n",
       "      <td>NaN</td>\n",
       "    </tr>\n",
       "    <tr>\n",
       "      <th>F</th>\n",
       "      <td>1.333361</td>\n",
       "      <td>0.979235</td>\n",
       "      <td>-1.973725</td>\n",
       "      <td>-1.313685</td>\n",
       "      <td>0.702539</td>\n",
       "      <td>NaN</td>\n",
       "    </tr>\n",
       "  </tbody>\n",
       "</table>\n",
       "</div>"
      ],
      "text/plain": [
       "       col1      col2      col3      col4      col5  col6\n",
       "A -2.139300 -0.086502 -1.818246  0.545573  2.690218   NaN\n",
       "B -1.247574 -1.582042 -1.007932  0.574008 -1.147424   NaN\n",
       "C       NaN       NaN       NaN       NaN       NaN   NaN\n",
       "D  0.472679  1.691711 -1.825475  0.168140 -0.530009   NaN\n",
       "E -2.082624 -0.585465 -0.902916 -0.871950 -2.205043   NaN\n",
       "F  1.333361  0.979235 -1.973725 -1.313685  0.702539   NaN"
      ]
     },
     "execution_count": 18,
     "metadata": {},
     "output_type": "execute_result"
    }
   ],
   "source": [
    "# .ix allows you to reindex all at once instead of separately, with .reindex\n",
    "\n",
    "dframe.ix[['A','B','C','D','E','F'],new_columns]"
   ]
  },
  {
   "cell_type": "code",
   "execution_count": null,
   "metadata": {
    "collapsed": true
   },
   "outputs": [],
   "source": []
  }
 ],
 "metadata": {
  "kernelspec": {
   "display_name": "Python 2",
   "language": "python",
   "name": "python2"
  },
  "language_info": {
   "codemirror_mode": {
    "name": "ipython",
    "version": 2
   },
   "file_extension": ".py",
   "mimetype": "text/x-python",
   "name": "python",
   "nbconvert_exporter": "python",
   "pygments_lexer": "ipython2",
   "version": "2.7.11"
  }
 },
 "nbformat": 4,
 "nbformat_minor": 0
}
